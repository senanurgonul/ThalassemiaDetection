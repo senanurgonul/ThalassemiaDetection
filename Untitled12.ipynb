{
  "nbformat": 4,
  "nbformat_minor": 0,
  "metadata": {
    "colab": {
      "provenance": []
    },
    "kernelspec": {
      "name": "python3",
      "display_name": "Python 3"
    },
    "language_info": {
      "name": "python"
    }
  },
  "cells": [
    {
      "cell_type": "code",
      "execution_count": 1,
      "metadata": {
        "colab": {
          "base_uri": "https://localhost:8080/"
        },
        "id": "pUyEkW3bMkiu",
        "outputId": "647c86f8-4afd-446e-b4ac-fd6dba0f9005"
      },
      "outputs": [
        {
          "output_type": "stream",
          "name": "stdout",
          "text": [
            "Requirement already satisfied: pytorch-tabnet in /usr/local/lib/python3.11/dist-packages (4.1.0)\n",
            "Requirement already satisfied: numpy>=1.17 in /usr/local/lib/python3.11/dist-packages (from pytorch-tabnet) (2.0.2)\n",
            "Requirement already satisfied: scikit_learn>0.21 in /usr/local/lib/python3.11/dist-packages (from pytorch-tabnet) (1.6.1)\n",
            "Requirement already satisfied: scipy>1.4 in /usr/local/lib/python3.11/dist-packages (from pytorch-tabnet) (1.15.2)\n",
            "Requirement already satisfied: torch>=1.3 in /usr/local/lib/python3.11/dist-packages (from pytorch-tabnet) (2.7.0+cu118)\n",
            "Requirement already satisfied: tqdm>=4.36 in /usr/local/lib/python3.11/dist-packages (from pytorch-tabnet) (4.67.1)\n",
            "Requirement already satisfied: joblib>=1.2.0 in /usr/local/lib/python3.11/dist-packages (from scikit_learn>0.21->pytorch-tabnet) (1.4.2)\n",
            "Requirement already satisfied: threadpoolctl>=3.1.0 in /usr/local/lib/python3.11/dist-packages (from scikit_learn>0.21->pytorch-tabnet) (3.6.0)\n",
            "Requirement already satisfied: filelock in /usr/local/lib/python3.11/dist-packages (from torch>=1.3->pytorch-tabnet) (3.18.0)\n",
            "Requirement already satisfied: typing-extensions>=4.10.0 in /usr/local/lib/python3.11/dist-packages (from torch>=1.3->pytorch-tabnet) (4.13.2)\n",
            "Requirement already satisfied: sympy>=1.13.3 in /usr/local/lib/python3.11/dist-packages (from torch>=1.3->pytorch-tabnet) (1.13.3)\n",
            "Requirement already satisfied: networkx in /usr/local/lib/python3.11/dist-packages (from torch>=1.3->pytorch-tabnet) (3.4.2)\n",
            "Requirement already satisfied: jinja2 in /usr/local/lib/python3.11/dist-packages (from torch>=1.3->pytorch-tabnet) (3.1.6)\n",
            "Requirement already satisfied: fsspec in /usr/local/lib/python3.11/dist-packages (from torch>=1.3->pytorch-tabnet) (2025.3.2)\n",
            "Requirement already satisfied: nvidia-cuda-nvrtc-cu11==11.8.89 in /usr/local/lib/python3.11/dist-packages (from torch>=1.3->pytorch-tabnet) (11.8.89)\n",
            "Requirement already satisfied: nvidia-cuda-runtime-cu11==11.8.89 in /usr/local/lib/python3.11/dist-packages (from torch>=1.3->pytorch-tabnet) (11.8.89)\n",
            "Requirement already satisfied: nvidia-cuda-cupti-cu11==11.8.87 in /usr/local/lib/python3.11/dist-packages (from torch>=1.3->pytorch-tabnet) (11.8.87)\n",
            "Requirement already satisfied: nvidia-cudnn-cu11==9.1.0.70 in /usr/local/lib/python3.11/dist-packages (from torch>=1.3->pytorch-tabnet) (9.1.0.70)\n",
            "Requirement already satisfied: nvidia-cublas-cu11==11.11.3.6 in /usr/local/lib/python3.11/dist-packages (from torch>=1.3->pytorch-tabnet) (11.11.3.6)\n",
            "Requirement already satisfied: nvidia-cufft-cu11==10.9.0.58 in /usr/local/lib/python3.11/dist-packages (from torch>=1.3->pytorch-tabnet) (10.9.0.58)\n",
            "Requirement already satisfied: nvidia-curand-cu11==10.3.0.86 in /usr/local/lib/python3.11/dist-packages (from torch>=1.3->pytorch-tabnet) (10.3.0.86)\n",
            "Requirement already satisfied: nvidia-cusolver-cu11==11.4.1.48 in /usr/local/lib/python3.11/dist-packages (from torch>=1.3->pytorch-tabnet) (11.4.1.48)\n",
            "Requirement already satisfied: nvidia-cusparse-cu11==11.7.5.86 in /usr/local/lib/python3.11/dist-packages (from torch>=1.3->pytorch-tabnet) (11.7.5.86)\n",
            "Requirement already satisfied: nvidia-nccl-cu11==2.21.5 in /usr/local/lib/python3.11/dist-packages (from torch>=1.3->pytorch-tabnet) (2.21.5)\n",
            "Requirement already satisfied: nvidia-nvtx-cu11==11.8.86 in /usr/local/lib/python3.11/dist-packages (from torch>=1.3->pytorch-tabnet) (11.8.86)\n",
            "Requirement already satisfied: triton==3.3.0 in /usr/local/lib/python3.11/dist-packages (from torch>=1.3->pytorch-tabnet) (3.3.0)\n",
            "Requirement already satisfied: setuptools>=40.8.0 in /usr/local/lib/python3.11/dist-packages (from triton==3.3.0->torch>=1.3->pytorch-tabnet) (75.2.0)\n",
            "Requirement already satisfied: mpmath<1.4,>=1.1.0 in /usr/local/lib/python3.11/dist-packages (from sympy>=1.13.3->torch>=1.3->pytorch-tabnet) (1.3.0)\n",
            "Requirement already satisfied: MarkupSafe>=2.0 in /usr/local/lib/python3.11/dist-packages (from jinja2->torch>=1.3->pytorch-tabnet) (3.0.2)\n"
          ]
        }
      ],
      "source": [
        "!pip install pytorch-tabnet"
      ]
    },
    {
      "cell_type": "code",
      "source": [
        "from google.colab import drive\n",
        "drive.mount('/content/drive')"
      ],
      "metadata": {
        "colab": {
          "base_uri": "https://localhost:8080/"
        },
        "id": "i9P1CyWkqr7O",
        "outputId": "542a7167-2fcd-486d-bebc-e32f43561ae1"
      },
      "execution_count": 2,
      "outputs": [
        {
          "output_type": "stream",
          "name": "stdout",
          "text": [
            "Drive already mounted at /content/drive; to attempt to forcibly remount, call drive.mount(\"/content/drive\", force_remount=True).\n"
          ]
        }
      ]
    },
    {
      "cell_type": "code",
      "source": [
        "import pandas as pd\n",
        "import numpy as np\n",
        "from sklearn.preprocessing import LabelEncoder, StandardScaler\n",
        "from sklearn.utils.class_weight import compute_class_weight\n",
        "from sklearn.model_selection import StratifiedKFold\n",
        "import torch\n",
        "from torch import nn\n",
        "from torch.utils.data import DataLoader, Dataset\n",
        "from pytorch_tabnet.tab_model import TabNetClassifier\n",
        "from pytorch_tabnet.pretraining import TabNetPretrainer\n",
        "import random # Import the random module\n",
        "\n",
        "# Reproducibility\n",
        "np.random.seed(42)\n",
        "torch.manual_seed(42)\n",
        "random.seed(42)"
      ],
      "metadata": {
        "id": "OBZyNGSryQfC"
      },
      "execution_count": 3,
      "outputs": []
    },
    {
      "cell_type": "code",
      "source": [
        "# Load data\n",
        "train_df = pd.read_csv(\"/content/drive/MyDrive/bitirme/TRAIN2.csv\")\n",
        "test_df=pd.read_csv(\"/content/drive/MyDrive/bitirme/final_augmented_with_HbA2.csv\")"
      ],
      "metadata": {
        "id": "lK94-lR9Mnve"
      },
      "execution_count": 4,
      "outputs": []
    },
    {
      "cell_type": "code",
      "source": [
        "# Preproces\n",
        "target_col = \"Interpretation\"\n",
        "train_df.drop(columns=[\"id\"], inplace=True)\n",
        "test_ids = test_df[\"id\"]\n",
        "test_df.drop(columns=[\"id\"], inplace=True)"
      ],
      "metadata": {
        "id": "SS2Glg2jMnyF"
      },
      "execution_count": 5,
      "outputs": []
    },
    {
      "cell_type": "code",
      "source": [
        "from sklearn.model_selection import StratifiedKFold\n",
        "\n",
        "# Stratified split yapmadan önce y'yi tanımlamalısın\n",
        "y = train_df[\"Interpretation\"]  # orijinal etiketler\n",
        "\n",
        "# Stratified split\n",
        "skf = StratifiedKFold(n_splits=5, shuffle=True, random_state=42)\n",
        "train_idx, val_idx = next(skf.split(train_df.drop(columns=[\"Interpretation\"]), y))\n",
        "\n",
        "y_train_raw = y.iloc[train_idx]\n",
        "y_val_raw = y.iloc[val_idx]\n",
        "\n",
        "print(\"Eğitim etiketleri:\", sorted(y_train_raw.unique()))\n",
        "print(\"Doğrulama etiketleri:\", sorted(y_val_raw.unique()))\n"
      ],
      "metadata": {
        "id": "v2GzzEWEMn2-",
        "colab": {
          "base_uri": "https://localhost:8080/"
        },
        "outputId": "baf19261-4745-4787-b50f-151cde8b6400"
      },
      "execution_count": 6,
      "outputs": [
        {
          "output_type": "stream",
          "name": "stdout",
          "text": [
            "Eğitim etiketleri: ['Alpha thal trait', 'Alpha thal1 trait', 'Beta thal trait', 'Beta0 thal/Hb E disease', 'FA2', 'Hb CS trait', 'Hb E Homozygote', 'Hb E trait', 'Hb E trait + Alpha thal1 trait', 'Hb H disease', 'Normal Hb type']\n",
            "Doğrulama etiketleri: ['Alpha thal trait', 'Alpha thal1 trait', 'Beta thal trait', 'Beta0 thal/Hb E disease', 'FA2', 'Hb CS trait', 'Hb E Homozygote', 'Hb E trait', 'Hb E trait + Alpha thal1 trait', 'Hb H disease', 'Normal Hb type']\n"
          ]
        }
      ]
    },
    {
      "cell_type": "code",
      "source": [
        "# Örneklemden sonra veriyi karıştır\n",
        "train_df = train_df.sample(frac=1, random_state=42).reset_index(drop=True)"
      ],
      "metadata": {
        "id": "tRp-EZJgMn5j"
      },
      "execution_count": 7,
      "outputs": []
    },
    {
      "cell_type": "code",
      "source": [
        "# Encode categoricals\n",
        "label_encoders = {}\n",
        "for col in train_df.columns:\n",
        "    if train_df[col].dtype == \"object\" and col != target_col:\n",
        "        le = LabelEncoder()\n",
        "        all_values = pd.concat([train_df[col], test_df[col]], axis=0)\n",
        "        le.fit(all_values)\n",
        "        train_df[col] = le.transform(train_df[col])\n",
        "        test_df[col] = le.transform(test_df[col])\n",
        "        label_encoders[col] = le"
      ],
      "metadata": {
        "id": "cNPzgWRfMn8K"
      },
      "execution_count": 8,
      "outputs": []
    },
    {
      "cell_type": "code",
      "source": [
        "# Encode target\n",
        "target_le = LabelEncoder()\n",
        "train_df[target_col] = target_le.fit_transform(train_df[target_col])\n",
        "num_classes = train_df[target_col].nunique()\n",
        "\n",
        "X = train_df.drop(columns=[target_col])\n",
        "y = train_df[target_col]\n",
        "X_test = test_df.copy()"
      ],
      "metadata": {
        "id": "dmOD9s9zMn-m"
      },
      "execution_count": 9,
      "outputs": []
    },
    {
      "cell_type": "code",
      "source": [
        "# Train veri setinde tekrarlı kayıt varsa sil (önce yapılmalı!)\n",
        "train_df = train_df.drop_duplicates().reset_index(drop=True)\n",
        "\n",
        "# Hedef ve özellikleri ayır\n",
        "target_col = \"Interpretation\"\n",
        "y_raw = train_df[target_col].reset_index(drop=True)\n",
        "X_raw = train_df.drop(columns=[target_col]).reset_index(drop=True)\n",
        "\n",
        "# Standardize\n",
        "scaler = StandardScaler()\n",
        "X_scaled_raw = scaler.fit_transform(X_raw)\n",
        "\n",
        "# Aynı değerleri içeren satırları sil (round ile minik farkları yok sayıyoruz)\n",
        "X_df = pd.DataFrame(X_scaled_raw).round(5)\n",
        "X_df[\"target\"] = y_raw.values\n",
        "\n",
        "# Tekrarlayanları kaldır\n",
        "X_df = X_df.drop_duplicates().reset_index(drop=True)\n",
        "\n",
        "# Son X ve y\n",
        "y = X_df[\"target\"]\n",
        "X_scaled = X_df.drop(columns=[\"target\"]).values\n",
        "\n",
        "\n",
        "# Test verisinden hedef/ID'leri çıkar\n",
        "X_test = test_df.copy()\n",
        "X_test.drop(columns=[\"id\", \"Interpretation\"], inplace=True, errors=\"ignore\")\n",
        "\n",
        "# Sınıf ağırlıkları (class weight)\n",
        "from sklearn.utils.class_weight import compute_class_weight\n",
        "import torch\n",
        "class_weights = compute_class_weight('balanced', classes=np.unique(y), y=y)\n",
        "class_weights_tensor = torch.tensor(class_weights, dtype=torch.float32)\n",
        "\n",
        "# Stratified split (veri sızıntısız)\n",
        "from sklearn.model_selection import StratifiedKFold\n",
        "skf = StratifiedKFold(n_splits=5, shuffle=True, random_state=42)\n",
        "\n",
        "for train_idx, val_idx in skf.split(X_scaled, y):\n",
        "    X_train, X_val = X_scaled[train_idx], X_scaled[val_idx]\n",
        "    y_train, y_val = y.iloc[train_idx], y.iloc[val_idx]\n",
        "    break\n",
        "\n",
        "# Eğitim ve doğrulama çakışıyor mu kontrol et\n",
        "matches = 0\n",
        "for i in range(len(X_val)):\n",
        "    if any(np.all(X_val[i] == row) for row in X_train):\n",
        "        matches += 1\n",
        "print(f\"🔍 {matches} validation örneği, eğitimde birebir aynı!\")\n"
      ],
      "metadata": {
        "id": "jMeN9ibqMoA8",
        "colab": {
          "base_uri": "https://localhost:8080/"
        },
        "outputId": "0ae7066a-bf85-4ea3-b1bd-160ea5b0abfb"
      },
      "execution_count": 10,
      "outputs": [
        {
          "output_type": "stream",
          "name": "stdout",
          "text": [
            "🔍 0 validation örneği, eğitimde birebir aynı!\n"
          ]
        },
        {
          "output_type": "stream",
          "name": "stderr",
          "text": [
            "/usr/local/lib/python3.11/dist-packages/sklearn/model_selection/_split.py:805: UserWarning: The least populated class in y has only 4 members, which is less than n_splits=5.\n",
            "  warnings.warn(\n"
          ]
        }
      ]
    },
    {
      "cell_type": "code",
      "source": [
        "# TabNet Model\n",
        "tabnet = TabNetClassifier(\n",
        "    input_dim=X_train.shape[1],\n",
        "    output_dim=num_classes,\n",
        "    n_d=32, n_a=32,\n",
        "    n_steps=3,\n",
        "    gamma=1.3,\n",
        "    lambda_sparse=1e-2,\n",
        "    optimizer_fn=torch.optim.Adam,\n",
        "    optimizer_params=dict(lr=1e-3),\n",
        "    scheduler_params={\"step_size\":10, \"gamma\":0.9},\n",
        "    scheduler_fn=torch.optim.lr_scheduler.StepLR,\n",
        "    mask_type='entmax'\n",
        ")"
      ],
      "metadata": {
        "id": "1nGwnkt1MoDa",
        "colab": {
          "base_uri": "https://localhost:8080/"
        },
        "outputId": "8579944a-383d-4647-ca6e-d0d9afa1385c"
      },
      "execution_count": 13,
      "outputs": [
        {
          "output_type": "stream",
          "name": "stderr",
          "text": [
            "/usr/local/lib/python3.11/dist-packages/pytorch_tabnet/abstract_model.py:82: UserWarning: Device used : cpu\n",
            "  warnings.warn(f\"Device used : {self.device}\")\n"
          ]
        }
      ]
    },
    {
      "cell_type": "code",
      "source": [
        "# y_train içindeki her örnek için, ait olduğu sınıfın ağırlığını ata\n",
        "sample_weights = np.array([class_weights[label] for label in y_train])"
      ],
      "metadata": {
        "id": "4EJXwLV2yCvN"
      },
      "execution_count": 14,
      "outputs": []
    },
    {
      "cell_type": "code",
      "source": [
        "# 1. Class weights (sınıf bazlı)\n",
        "class_weights = compute_class_weight('balanced', classes=np.unique(y), y=y)\n",
        "class_weights = dict(enumerate(class_weights))  # Eğer gerekirse dict yap\n",
        "\n",
        "# 2. Sample weights (örnek bazlı)\n",
        "sample_weights = np.array([class_weights[label] for label in y_train])\n",
        "\n",
        "!pip install --upgrade torch torchvision torchaudio --index-url https://download.pytorch.org/whl/cu118\n",
        "# Then import the necessary libraries\n",
        "import torch\n",
        "from pytorch_tabnet.tab_model import TabNetClassifier\n",
        "# Fit\n",
        "tabnet.fit(\n",
        "    X_train=X_train, y_train=y_train,\n",
        "    eval_set=[(X_train, y_train), (X_val, y_val)],\n",
        "    eval_name=['train', 'val'],\n",
        "    eval_metric=['accuracy'],\n",
        "    max_epochs=50,\n",
        "    patience=5,\n",
        "    batch_size=256,\n",
        "    virtual_batch_size=128,\n",
        "    num_workers=0,\n",
        "    weights=sample_weights,\n",
        "    drop_last=False\n",
        ")\n"
      ],
      "metadata": {
        "colab": {
          "base_uri": "https://localhost:8080/"
        },
        "id": "E3wvHztDyCyF",
        "outputId": "f1d7da40-a9c3-4dfb-f6a6-d7d5307052e2"
      },
      "execution_count": 15,
      "outputs": [
        {
          "output_type": "stream",
          "name": "stdout",
          "text": [
            "Looking in indexes: https://download.pytorch.org/whl/cu118\n",
            "Requirement already satisfied: torch in /usr/local/lib/python3.11/dist-packages (2.7.0+cu118)\n",
            "Requirement already satisfied: torchvision in /usr/local/lib/python3.11/dist-packages (0.22.0+cu118)\n",
            "Requirement already satisfied: torchaudio in /usr/local/lib/python3.11/dist-packages (2.7.0+cu118)\n",
            "Requirement already satisfied: filelock in /usr/local/lib/python3.11/dist-packages (from torch) (3.18.0)\n",
            "Requirement already satisfied: typing-extensions>=4.10.0 in /usr/local/lib/python3.11/dist-packages (from torch) (4.13.2)\n",
            "Requirement already satisfied: sympy>=1.13.3 in /usr/local/lib/python3.11/dist-packages (from torch) (1.13.3)\n",
            "Requirement already satisfied: networkx in /usr/local/lib/python3.11/dist-packages (from torch) (3.4.2)\n",
            "Requirement already satisfied: jinja2 in /usr/local/lib/python3.11/dist-packages (from torch) (3.1.6)\n",
            "Requirement already satisfied: fsspec in /usr/local/lib/python3.11/dist-packages (from torch) (2025.3.2)\n",
            "Requirement already satisfied: nvidia-cuda-nvrtc-cu11==11.8.89 in /usr/local/lib/python3.11/dist-packages (from torch) (11.8.89)\n",
            "Requirement already satisfied: nvidia-cuda-runtime-cu11==11.8.89 in /usr/local/lib/python3.11/dist-packages (from torch) (11.8.89)\n",
            "Requirement already satisfied: nvidia-cuda-cupti-cu11==11.8.87 in /usr/local/lib/python3.11/dist-packages (from torch) (11.8.87)\n",
            "Requirement already satisfied: nvidia-cudnn-cu11==9.1.0.70 in /usr/local/lib/python3.11/dist-packages (from torch) (9.1.0.70)\n",
            "Requirement already satisfied: nvidia-cublas-cu11==11.11.3.6 in /usr/local/lib/python3.11/dist-packages (from torch) (11.11.3.6)\n",
            "Requirement already satisfied: nvidia-cufft-cu11==10.9.0.58 in /usr/local/lib/python3.11/dist-packages (from torch) (10.9.0.58)\n",
            "Requirement already satisfied: nvidia-curand-cu11==10.3.0.86 in /usr/local/lib/python3.11/dist-packages (from torch) (10.3.0.86)\n",
            "Requirement already satisfied: nvidia-cusolver-cu11==11.4.1.48 in /usr/local/lib/python3.11/dist-packages (from torch) (11.4.1.48)\n",
            "Requirement already satisfied: nvidia-cusparse-cu11==11.7.5.86 in /usr/local/lib/python3.11/dist-packages (from torch) (11.7.5.86)\n",
            "Requirement already satisfied: nvidia-nccl-cu11==2.21.5 in /usr/local/lib/python3.11/dist-packages (from torch) (2.21.5)\n",
            "Requirement already satisfied: nvidia-nvtx-cu11==11.8.86 in /usr/local/lib/python3.11/dist-packages (from torch) (11.8.86)\n",
            "Requirement already satisfied: triton==3.3.0 in /usr/local/lib/python3.11/dist-packages (from torch) (3.3.0)\n",
            "Requirement already satisfied: setuptools>=40.8.0 in /usr/local/lib/python3.11/dist-packages (from triton==3.3.0->torch) (75.2.0)\n",
            "Requirement already satisfied: numpy in /usr/local/lib/python3.11/dist-packages (from torchvision) (2.0.2)\n",
            "Requirement already satisfied: pillow!=8.3.*,>=5.3.0 in /usr/local/lib/python3.11/dist-packages (from torchvision) (11.2.1)\n",
            "Requirement already satisfied: mpmath<1.4,>=1.1.0 in /usr/local/lib/python3.11/dist-packages (from sympy>=1.13.3->torch) (1.3.0)\n",
            "Requirement already satisfied: MarkupSafe>=2.0 in /usr/local/lib/python3.11/dist-packages (from jinja2->torch) (3.0.2)\n",
            "epoch 0  | loss: 3.24584 | train_accuracy: 0.08333 | val_accuracy: 0.05747 |  0:00:00s\n",
            "epoch 1  | loss: 2.75155 | train_accuracy: 0.08333 | val_accuracy: 0.06897 |  0:00:00s\n",
            "epoch 2  | loss: 2.37957 | train_accuracy: 0.08621 | val_accuracy: 0.08046 |  0:00:00s\n",
            "epoch 3  | loss: 2.24017 | train_accuracy: 0.1092  | val_accuracy: 0.09195 |  0:00:00s\n",
            "epoch 4  | loss: 2.12022 | train_accuracy: 0.08046 | val_accuracy: 0.11494 |  0:00:00s\n",
            "epoch 5  | loss: 1.96825 | train_accuracy: 0.12069 | val_accuracy: 0.12644 |  0:00:00s\n",
            "epoch 6  | loss: 1.77336 | train_accuracy: 0.13506 | val_accuracy: 0.14943 |  0:00:01s\n",
            "epoch 7  | loss: 1.66187 | train_accuracy: 0.1408  | val_accuracy: 0.18391 |  0:00:01s\n",
            "epoch 8  | loss: 1.54003 | train_accuracy: 0.15805 | val_accuracy: 0.1954  |  0:00:01s\n",
            "epoch 9  | loss: 1.48214 | train_accuracy: 0.17241 | val_accuracy: 0.2069  |  0:00:01s\n",
            "epoch 10 | loss: 1.44903 | train_accuracy: 0.18391 | val_accuracy: 0.21839 |  0:00:01s\n",
            "epoch 11 | loss: 1.2956  | train_accuracy: 0.19253 | val_accuracy: 0.21839 |  0:00:01s\n",
            "epoch 12 | loss: 1.34858 | train_accuracy: 0.21839 | val_accuracy: 0.24138 |  0:00:01s\n",
            "epoch 13 | loss: 1.17709 | train_accuracy: 0.24713 | val_accuracy: 0.26437 |  0:00:01s\n",
            "epoch 14 | loss: 1.17068 | train_accuracy: 0.2931  | val_accuracy: 0.28736 |  0:00:01s\n",
            "epoch 15 | loss: 1.09871 | train_accuracy: 0.34483 | val_accuracy: 0.36782 |  0:00:02s\n",
            "epoch 16 | loss: 1.15114 | train_accuracy: 0.41092 | val_accuracy: 0.44828 |  0:00:02s\n",
            "epoch 17 | loss: 1.00221 | train_accuracy: 0.45402 | val_accuracy: 0.45977 |  0:00:02s\n",
            "epoch 18 | loss: 0.95012 | train_accuracy: 0.50287 | val_accuracy: 0.48276 |  0:00:02s\n",
            "epoch 19 | loss: 0.84624 | train_accuracy: 0.52874 | val_accuracy: 0.52874 |  0:00:02s\n",
            "epoch 20 | loss: 0.83279 | train_accuracy: 0.54885 | val_accuracy: 0.55172 |  0:00:02s\n",
            "epoch 21 | loss: 0.78838 | train_accuracy: 0.57184 | val_accuracy: 0.55172 |  0:00:02s\n",
            "epoch 22 | loss: 0.88618 | train_accuracy: 0.58908 | val_accuracy: 0.56322 |  0:00:02s\n",
            "epoch 23 | loss: 0.66337 | train_accuracy: 0.59195 | val_accuracy: 0.57471 |  0:00:03s\n",
            "epoch 24 | loss: 0.78135 | train_accuracy: 0.62356 | val_accuracy: 0.58621 |  0:00:03s\n",
            "epoch 25 | loss: 0.65693 | train_accuracy: 0.64943 | val_accuracy: 0.58621 |  0:00:03s\n",
            "epoch 26 | loss: 0.62931 | train_accuracy: 0.66667 | val_accuracy: 0.63218 |  0:00:03s\n",
            "epoch 27 | loss: 0.7572  | train_accuracy: 0.68391 | val_accuracy: 0.65517 |  0:00:03s\n",
            "epoch 28 | loss: 0.61823 | train_accuracy: 0.70977 | val_accuracy: 0.71264 |  0:00:03s\n",
            "epoch 29 | loss: 0.58986 | train_accuracy: 0.72414 | val_accuracy: 0.73563 |  0:00:03s\n",
            "epoch 30 | loss: 0.50182 | train_accuracy: 0.73851 | val_accuracy: 0.77011 |  0:00:04s\n",
            "epoch 31 | loss: 0.55534 | train_accuracy: 0.74138 | val_accuracy: 0.74713 |  0:00:04s\n",
            "epoch 32 | loss: 0.57573 | train_accuracy: 0.76724 | val_accuracy: 0.77011 |  0:00:04s\n",
            "epoch 33 | loss: 0.50337 | train_accuracy: 0.77011 | val_accuracy: 0.78161 |  0:00:04s\n",
            "epoch 34 | loss: 0.46266 | train_accuracy: 0.78161 | val_accuracy: 0.77011 |  0:00:04s\n",
            "epoch 35 | loss: 0.44596 | train_accuracy: 0.80172 | val_accuracy: 0.77011 |  0:00:04s\n",
            "epoch 36 | loss: 0.42778 | train_accuracy: 0.81322 | val_accuracy: 0.78161 |  0:00:05s\n",
            "epoch 37 | loss: 0.43168 | train_accuracy: 0.81609 | val_accuracy: 0.78161 |  0:00:05s\n",
            "epoch 38 | loss: 0.39689 | train_accuracy: 0.82471 | val_accuracy: 0.81609 |  0:00:05s\n",
            "epoch 39 | loss: 0.35667 | train_accuracy: 0.82759 | val_accuracy: 0.82759 |  0:00:05s\n",
            "epoch 40 | loss: 0.36503 | train_accuracy: 0.83908 | val_accuracy: 0.85057 |  0:00:05s\n",
            "epoch 41 | loss: 0.35839 | train_accuracy: 0.83621 | val_accuracy: 0.86207 |  0:00:05s\n",
            "epoch 42 | loss: 0.36805 | train_accuracy: 0.83621 | val_accuracy: 0.86207 |  0:00:05s\n",
            "epoch 43 | loss: 0.30977 | train_accuracy: 0.83908 | val_accuracy: 0.86207 |  0:00:06s\n",
            "epoch 44 | loss: 0.27249 | train_accuracy: 0.83621 | val_accuracy: 0.86207 |  0:00:06s\n",
            "epoch 45 | loss: 0.47076 | train_accuracy: 0.83046 | val_accuracy: 0.89655 |  0:00:06s\n",
            "epoch 46 | loss: 0.35735 | train_accuracy: 0.8477  | val_accuracy: 0.89655 |  0:00:06s\n",
            "epoch 47 | loss: 0.32086 | train_accuracy: 0.86494 | val_accuracy: 0.90805 |  0:00:06s\n",
            "epoch 48 | loss: 0.31014 | train_accuracy: 0.87069 | val_accuracy: 0.93103 |  0:00:06s\n",
            "epoch 49 | loss: 0.29098 | train_accuracy: 0.87356 | val_accuracy: 0.94253 |  0:00:07s\n",
            "Stop training because you reached max_epochs = 50 with best_epoch = 49 and best_val_accuracy = 0.94253\n"
          ]
        },
        {
          "output_type": "stream",
          "name": "stderr",
          "text": [
            "/usr/local/lib/python3.11/dist-packages/pytorch_tabnet/callbacks.py:172: UserWarning: Best weights from best epoch are automatically used!\n",
            "  warnings.warn(wrn_msg)\n"
          ]
        }
      ]
    },
    {
      "cell_type": "code",
      "source": [
        "print(tabnet.history)"
      ],
      "metadata": {
        "colab": {
          "base_uri": "https://localhost:8080/"
        },
        "id": "qRi27k1MyC0K",
        "outputId": "675f9a3b-e34a-4128-b08c-c1769100db90"
      },
      "execution_count": 16,
      "outputs": [
        {
          "output_type": "stream",
          "name": "stdout",
          "text": [
            "{'loss': [3.24583852154085, 2.7515474379747764, 2.3795669407680116, 2.2401672368762138, 2.120222330093384, 1.9682547717258847, 1.7733592904847244, 1.6618730377876896, 1.540026901782244, 1.482135700083327, 1.4490329794500065, 1.2955962912789707, 1.3485836900513748, 1.1770895459186073, 1.1706801556992805, 1.098706002893119, 1.1511420148542557, 1.002208371957143, 0.9501229099843694, 0.846238354841868, 0.8327947807037968, 0.7883788354095371, 0.8861835044005821, 0.6633721843533132, 0.7813505386484081, 0.6569285851785507, 0.6293069679161598, 0.757197043676486, 0.6182333018587923, 0.5898561114552378, 0.5018152779546278, 0.5553428695119661, 0.5757252642478066, 0.5033720680351915, 0.46265652775764465, 0.44596422540730446, 0.42778218888688363, 0.43168330021288204, 0.3968865395277396, 0.35667170738351756, 0.3650279904919109, 0.35839438986504213, 0.36805407857072764, 0.3097702384680167, 0.27249335831609267, 0.470757694765069, 0.35735020486787816, 0.32085780919283285, 0.3101445657425913, 0.2909804469552533], 'lr': [0.001, 0.001, 0.001, 0.001, 0.001, 0.001, 0.001, 0.001, 0.001, 0.001, 0.0009000000000000001, 0.0009000000000000001, 0.0009000000000000001, 0.0009000000000000001, 0.0009000000000000001, 0.0009000000000000001, 0.0009000000000000001, 0.0009000000000000001, 0.0009000000000000001, 0.0009000000000000001, 0.0008100000000000001, 0.0008100000000000001, 0.0008100000000000001, 0.0008100000000000001, 0.0008100000000000001, 0.0008100000000000001, 0.0008100000000000001, 0.0008100000000000001, 0.0008100000000000001, 0.0008100000000000001, 0.000729, 0.000729, 0.000729, 0.000729, 0.000729, 0.000729, 0.000729, 0.000729, 0.000729, 0.000729, 0.0006561000000000001, 0.0006561000000000001, 0.0006561000000000001, 0.0006561000000000001, 0.0006561000000000001, 0.0006561000000000001, 0.0006561000000000001, 0.0006561000000000001, 0.0006561000000000001, 0.0006561000000000001], 'train_accuracy': [0.08333333333333333, 0.08333333333333333, 0.08620689655172414, 0.10919540229885058, 0.08045977011494253, 0.1206896551724138, 0.13505747126436782, 0.14080459770114942, 0.15804597701149425, 0.1724137931034483, 0.1839080459770115, 0.1925287356321839, 0.21839080459770116, 0.2471264367816092, 0.29310344827586204, 0.3448275862068966, 0.4109195402298851, 0.4540229885057471, 0.5028735632183908, 0.5287356321839081, 0.5488505747126436, 0.5718390804597702, 0.5890804597701149, 0.5919540229885057, 0.6235632183908046, 0.6494252873563219, 0.6666666666666666, 0.6839080459770115, 0.7097701149425287, 0.7241379310344828, 0.7385057471264368, 0.7413793103448276, 0.7672413793103449, 0.7701149425287356, 0.7816091954022989, 0.8017241379310345, 0.8132183908045977, 0.8160919540229885, 0.8247126436781609, 0.8275862068965517, 0.8390804597701149, 0.8362068965517241, 0.8362068965517241, 0.8390804597701149, 0.8362068965517241, 0.8304597701149425, 0.8477011494252874, 0.8649425287356322, 0.8706896551724138, 0.8735632183908046], 'val_accuracy': [0.05747126436781609, 0.06896551724137931, 0.08045977011494253, 0.09195402298850575, 0.11494252873563218, 0.12643678160919541, 0.14942528735632185, 0.1839080459770115, 0.19540229885057472, 0.20689655172413793, 0.21839080459770116, 0.21839080459770116, 0.2413793103448276, 0.26436781609195403, 0.28735632183908044, 0.367816091954023, 0.4482758620689655, 0.45977011494252873, 0.4827586206896552, 0.5287356321839081, 0.5517241379310345, 0.5517241379310345, 0.5632183908045977, 0.5747126436781609, 0.5862068965517241, 0.5862068965517241, 0.632183908045977, 0.6551724137931034, 0.7126436781609196, 0.735632183908046, 0.7701149425287356, 0.7471264367816092, 0.7701149425287356, 0.7816091954022989, 0.7701149425287356, 0.7701149425287356, 0.7816091954022989, 0.7816091954022989, 0.8160919540229885, 0.8275862068965517, 0.8505747126436781, 0.8620689655172413, 0.8620689655172413, 0.8620689655172413, 0.8620689655172413, 0.896551724137931, 0.896551724137931, 0.9080459770114943, 0.9310344827586207, 0.9425287356321839]}\n"
          ]
        }
      ]
    },
    {
      "cell_type": "code",
      "source": [
        "import matplotlib.pyplot as plt\n",
        "train_acc = tabnet.history['train_accuracy']\n",
        "val_acc = tabnet.history['val_accuracy']\n",
        "\n",
        "plt.figure(figsize=(8,5))\n",
        "plt.plot(train_acc, label='Train Accuracy', color='green')\n",
        "plt.plot(val_acc, label='Validation Accuracy', color='blue')\n",
        "plt.title(\"Train vs Validation Accuracy Over Epochs\")\n",
        "plt.xlabel(\"Epoch\")\n",
        "plt.ylabel(\"Accuracy\")\n",
        "plt.legend()\n",
        "plt.grid(True)\n",
        "plt.show()"
      ],
      "metadata": {
        "colab": {
          "base_uri": "https://localhost:8080/",
          "height": 487
        },
        "id": "5lOLS9J6yC2l",
        "outputId": "0775d2c3-4991-4a20-ac42-e5d6069d68d7"
      },
      "execution_count": 17,
      "outputs": [
        {
          "output_type": "display_data",
          "data": {
            "text/plain": [
              "<Figure size 800x500 with 1 Axes>"
            ],
            "image/png": "[encoded data removed]"
          },
          "metadata": {}
        }
      ]
    },
    {
      "cell_type": "code",
      "source": [
        "# Optional: extract TabNet features and pass to custom head\n",
        "train_feats = tabnet.predict_proba(X_train)\n",
        "val_feats = tabnet.predict_proba(X_val)"
      ],
      "metadata": {
        "id": "jThU36-_yW8q"
      },
      "execution_count": 18,
      "outputs": []
    },
    {
      "cell_type": "code",
      "source": [
        "# Custom classifier (dense layers on top of TabNet output)\n",
        "class CustomHead(nn.Module):\n",
        "    def __init__(self, input_dim, num_classes):\n",
        "        super().__init__()\n",
        "        self.net = nn.Sequential(\n",
        "            nn.Linear(input_dim, 64),\n",
        "            nn.BatchNorm1d(64),\n",
        "            nn.ReLU(),\n",
        "            nn.Dropout(0.3),\n",
        "            nn.Linear(64, num_classes)\n",
        "        )\n",
        "\n",
        "    def forward(self, x):\n",
        "        return self.net(x)"
      ],
      "metadata": {
        "id": "EnGZ9v8zyW-u"
      },
      "execution_count": 19,
      "outputs": []
    },
    {
      "cell_type": "code",
      "source": [
        "# 1. TRAIN VERİSİNDE TEKRAR EDEN KAYIT VAR MI?\n",
        "dup_count = train_df.duplicated().sum()\n",
        "print(f\"\\n🔍 Duplicate kayıt sayısı (train_df): {dup_count}\")"
      ],
      "metadata": {
        "colab": {
          "base_uri": "https://localhost:8080/"
        },
        "id": "k1R5P5SGyXBD",
        "outputId": "2d457727-bf8e-4923-fc0b-aceab930f807"
      },
      "execution_count": 20,
      "outputs": [
        {
          "output_type": "stream",
          "name": "stdout",
          "text": [
            "\n",
            "🔍 Duplicate kayıt sayısı (train_df): 0\n"
          ]
        }
      ]
    },
    {
      "cell_type": "code",
      "source": [
        "# 2. VALIDASYON VERİSİ EĞİTİM VERİSİYLE BİREBİR Mİ?\n",
        "matches = 0\n",
        "for i in range(len(X_val)):\n",
        "    if any(np.all(X_val[i] == row) for row in X_train):\n",
        "        matches += 1\n",
        "print(f\"🔍 {matches} validation örneği, eğitimde birebir aynı!\")"
      ],
      "metadata": {
        "colab": {
          "base_uri": "https://localhost:8080/"
        },
        "id": "rpwERFd-ykQK",
        "outputId": "b91582ad-6fc4-4ec6-8251-6185ef3f785c"
      },
      "execution_count": 21,
      "outputs": [
        {
          "output_type": "stream",
          "name": "stdout",
          "text": [
            "🔍 0 validation örneği, eğitimde birebir aynı!\n"
          ]
        }
      ]
    },
    {
      "cell_type": "code",
      "source": [
        "# 3. ÖZELLİKLERİN HEDEFLE KORELASYONU\n",
        "X_df = pd.DataFrame(X_scaled, columns=train_df.drop(columns=[target_col]).columns)\n",
        "# Fix: Ensure y and X_df have the same index before assigning the 'target' column.\n",
        "X_df = X_df.iloc[:len(y)]  # Select the first len(y) rows of X_df\n",
        "X_df['target'] = y.values\n",
        "\n",
        "corr = X_df.corr(numeric_only=True)['target'].abs().sort_values(ascending=False)\n",
        "print(\"\\n🔍 Hedef ile korelasyonu yüksek özellikler:\")\n",
        "print(corr.head(10))"
      ],
      "metadata": {
        "colab": {
          "base_uri": "https://localhost:8080/"
        },
        "id": "pY6OkB9yykSF",
        "outputId": "e742d7ba-2d8f-42c9-eb83-0230a3a1a389"
      },
      "execution_count": 22,
      "outputs": [
        {
          "output_type": "stream",
          "name": "stdout",
          "text": [
            "\n",
            "🔍 Hedef ile korelasyonu yüksek özellikler:\n",
            "target               1.000000\n",
            "Hb A1C/Hb F          0.420363\n",
            "MCV                  0.308533\n",
            "Hb E                 0.266043\n",
            "Hb A0                0.257069\n",
            "Hb D/S/Constant/C    0.218917\n",
            "Hb A2                0.187829\n",
            "HB                   0.118925\n",
            "Hb Bart's            0.006559\n",
            "Name: target, dtype: float64\n"
          ]
        }
      ]
    },
    {
      "cell_type": "code",
      "source": [
        "# Train custom head\n",
        "model = CustomHead(input_dim=train_feats.shape[1], num_classes=num_classes)\n",
        "criterion = nn.CrossEntropyLoss(weight=class_weights_tensor)\n",
        "optimizer = torch.optim.Adam(model.parameters(), lr=1e-3)\n",
        "\n",
        "train_tensor = torch.tensor(train_feats, dtype=torch.float32)\n",
        "train_labels = torch.tensor(y_train.values, dtype=torch.long)\n",
        "val_tensor = torch.tensor(val_feats, dtype=torch.float32)\n",
        "val_labels = torch.tensor(y_val.values, dtype=torch.long)\n",
        "\n",
        "for epoch in range(50):\n",
        "    model.train()\n",
        "    optimizer.zero_grad()\n",
        "    outputs = model(train_tensor)\n",
        "    loss = criterion(outputs, train_labels)\n",
        "    loss.backward()\n",
        "    optimizer.step()\n",
        "\n",
        "    with torch.no_grad():\n",
        "        model.eval()\n",
        "        val_out = model(val_tensor)\n",
        "        val_loss = criterion(val_out, val_labels)\n",
        "    print(f\"Epoch {epoch+1}: Train Loss {loss.item():.4f} | Val Loss {val_loss.item():.4f}\")"
      ],
      "metadata": {
        "colab": {
          "base_uri": "https://localhost:8080/"
        },
        "id": "AA9W7grFykUO",
        "outputId": "141c68f5-eb6a-492e-fcb5-6bb409a03a90"
      },
      "execution_count": 23,
      "outputs": [
        {
          "output_type": "stream",
          "name": "stdout",
          "text": [
            "Epoch 1: Train Loss 2.6813 | Val Loss 2.4139\n",
            "Epoch 2: Train Loss 2.6033 | Val Loss 2.4080\n",
            "Epoch 3: Train Loss 2.6592 | Val Loss 2.4020\n",
            "Epoch 4: Train Loss 2.5246 | Val Loss 2.3958\n",
            "Epoch 5: Train Loss 2.5639 | Val Loss 2.3891\n",
            "Epoch 6: Train Loss 2.4427 | Val Loss 2.3821\n",
            "Epoch 7: Train Loss 2.4815 | Val Loss 2.3745\n",
            "Epoch 8: Train Loss 2.3837 | Val Loss 2.3663\n",
            "Epoch 9: Train Loss 2.2370 | Val Loss 2.3577\n",
            "Epoch 10: Train Loss 2.2754 | Val Loss 2.3486\n",
            "Epoch 11: Train Loss 2.2436 | Val Loss 2.3388\n",
            "Epoch 12: Train Loss 2.2170 | Val Loss 2.3281\n",
            "Epoch 13: Train Loss 2.1644 | Val Loss 2.3165\n",
            "Epoch 14: Train Loss 2.0814 | Val Loss 2.3042\n",
            "Epoch 15: Train Loss 2.1115 | Val Loss 2.2910\n",
            "Epoch 16: Train Loss 2.0052 | Val Loss 2.2768\n",
            "Epoch 17: Train Loss 1.9604 | Val Loss 2.2616\n",
            "Epoch 18: Train Loss 1.9975 | Val Loss 2.2452\n",
            "Epoch 19: Train Loss 1.9336 | Val Loss 2.2276\n",
            "Epoch 20: Train Loss 1.8421 | Val Loss 2.2088\n",
            "Epoch 21: Train Loss 1.8096 | Val Loss 2.1889\n",
            "Epoch 22: Train Loss 1.7439 | Val Loss 2.1680\n",
            "Epoch 23: Train Loss 1.7429 | Val Loss 2.1459\n",
            "Epoch 24: Train Loss 1.7210 | Val Loss 2.1227\n",
            "Epoch 25: Train Loss 1.6165 | Val Loss 2.0983\n",
            "Epoch 26: Train Loss 1.6305 | Val Loss 2.0728\n",
            "Epoch 27: Train Loss 1.5718 | Val Loss 2.0462\n",
            "Epoch 28: Train Loss 1.5841 | Val Loss 2.0184\n",
            "Epoch 29: Train Loss 1.4981 | Val Loss 1.9896\n",
            "Epoch 30: Train Loss 1.4556 | Val Loss 1.9598\n",
            "Epoch 31: Train Loss 1.4391 | Val Loss 1.9291\n",
            "Epoch 32: Train Loss 1.3448 | Val Loss 1.8974\n",
            "Epoch 33: Train Loss 1.3500 | Val Loss 1.8651\n",
            "Epoch 34: Train Loss 1.3739 | Val Loss 1.8322\n",
            "Epoch 35: Train Loss 1.3598 | Val Loss 1.7987\n",
            "Epoch 36: Train Loss 1.3196 | Val Loss 1.7648\n",
            "Epoch 37: Train Loss 1.2792 | Val Loss 1.7307\n",
            "Epoch 38: Train Loss 1.2620 | Val Loss 1.6964\n",
            "Epoch 39: Train Loss 1.2086 | Val Loss 1.6621\n",
            "Epoch 40: Train Loss 1.1849 | Val Loss 1.6280\n",
            "Epoch 41: Train Loss 1.1466 | Val Loss 1.5942\n",
            "Epoch 42: Train Loss 1.1199 | Val Loss 1.5608\n",
            "Epoch 43: Train Loss 1.0932 | Val Loss 1.5280\n",
            "Epoch 44: Train Loss 1.0826 | Val Loss 1.4957\n",
            "Epoch 45: Train Loss 1.0243 | Val Loss 1.4640\n",
            "Epoch 46: Train Loss 1.0207 | Val Loss 1.4330\n",
            "Epoch 47: Train Loss 0.9882 | Val Loss 1.4029\n",
            "Epoch 48: Train Loss 0.9624 | Val Loss 1.3737\n",
            "Epoch 49: Train Loss 0.9886 | Val Loss 1.3455\n",
            "Epoch 50: Train Loss 0.9408 | Val Loss 1.3183\n"
          ]
        }
      ]
    },
    {
      "cell_type": "code",
      "source": [
        "print(y.value_counts(normalize=True))"
      ],
      "metadata": {
        "colab": {
          "base_uri": "https://localhost:8080/"
        },
        "id": "gF2mnAphytS9",
        "outputId": "c2cdfca9-c77d-4a75-bded-623343f7d07c"
      },
      "execution_count": 24,
      "outputs": [
        {
          "output_type": "stream",
          "name": "stdout",
          "text": [
            "target\n",
            "8     0.204598\n",
            "1     0.195402\n",
            "10    0.140230\n",
            "7     0.126437\n",
            "0     0.101149\n",
            "2     0.073563\n",
            "6     0.057471\n",
            "9     0.041379\n",
            "3     0.036782\n",
            "5     0.013793\n",
            "4     0.009195\n",
            "Name: proportion, dtype: float64\n"
          ]
        }
      ]
    },
    {
      "cell_type": "code",
      "source": [
        "import pandas as pd\n",
        "from sklearn.metrics import confusion_matrix\n",
        "\n",
        "# Tahmin ve gerçek etiketler\n",
        "val_preds = tabnet.predict(X_val)\n",
        "val_true = y_val\n",
        "\n",
        "# LabelEncoder sınıf adları\n",
        "class_names = target_le.classes_\n",
        "\n",
        "# Confusion matrix\n",
        "cm = confusion_matrix(val_true, val_preds)\n",
        "\n",
        "# Eğitimdeki örnek sayısı (y_train + y_val üzerinden toplam alınabilir)\n",
        "train_val_labels = pd.concat([y_train, y_val], axis=0)\n",
        "train_counts = pd.Series(train_val_labels).value_counts().sort_index()\n",
        "\n",
        "# Tahmin edilen örnek sayısı (modelin tahmini)\n",
        "pred_counts = cm.sum(axis=0)\n",
        "\n",
        "# Doğru tahminler (diyagonal)\n",
        "correct_counts = cm.diagonal()\n",
        "\n",
        "# Doğruluk oranı (class level precision)\n",
        "accuracy_per_class = correct_counts / pred_counts\n",
        "\n",
        "# Tablo oluştur\n",
        "summary_df = pd.DataFrame({\n",
        "    \"Class\": class_names,\n",
        "    \"Train Count\": train_counts.values,\n",
        "    \"Predicted Count\": pred_counts,\n",
        "    \"Correct Predictions\": correct_counts,\n",
        "    \"Accuracy\": accuracy_per_class.round(4)\n",
        "})\n",
        "\n",
        "# Sırala (en fazla tahmin edilen sınıf en üstte)\n",
        "summary_df = summary_df.sort_values(by=\"Predicted Count\", ascending=False).reset_index(drop=True)\n",
        "\n",
        "# Göster\n",
        "from IPython.display import display\n",
        "display(summary_df)"
      ],
      "metadata": {
        "colab": {
          "base_uri": "https://localhost:8080/",
          "height": 429
        },
        "id": "iHGmv_rkytVI",
        "outputId": "8db9330d-89f7-4d16-b561-989546c03611"
      },
      "execution_count": 25,
      "outputs": [
        {
          "output_type": "stream",
          "name": "stderr",
          "text": [
            "<ipython-input-25-f0ad426b84d8>:25: RuntimeWarning: invalid value encountered in divide\n",
            "  accuracy_per_class = correct_counts / pred_counts\n"
          ]
        },
        {
          "output_type": "display_data",
          "data": {
            "text/plain": [
              "                             Class  Train Count  Predicted Count  \\\n",
              "0                Alpha thal1 trait           85               18   \n",
              "1                       Hb E trait           55               14   \n",
              "2   Hb E trait + Alpha thal1 trait           89               14   \n",
              "3                   Normal Hb type           61               13   \n",
              "4                 Alpha thal trait           44                8   \n",
              "5                  Beta thal trait           32                6   \n",
              "6                  Hb E Homozygote           25                6   \n",
              "7                     Hb H disease           18                4   \n",
              "8          Beta0 thal/Hb E disease           16                3   \n",
              "9                      Hb CS trait            6                1   \n",
              "10                             FA2            4                0   \n",
              "\n",
              "    Correct Predictions  Accuracy  \n",
              "0                    17    0.9444  \n",
              "1                    11    0.7857  \n",
              "2                    14    1.0000  \n",
              "3                    13    1.0000  \n",
              "4                     8    1.0000  \n",
              "5                     6    1.0000  \n",
              "6                     5    0.8333  \n",
              "7                     4    1.0000  \n",
              "8                     3    1.0000  \n",
              "9                     1    1.0000  \n",
              "10                    0       NaN  "
            ],
            "text/html": [
              "\n",
              "  <div id=\"df-7f32de05-b05e-4183-a2ab-303f5c19e5d0\" class=\"colab-df-container\">\n",
              "    <div>\n",
              "<style scoped>\n",
              "    .dataframe tbody tr th:only-of-type {\n",
              "        vertical-align: middle;\n",
              "    }\n",
              "\n",
              "    .dataframe tbody tr th {\n",
              "        vertical-align: top;\n",
              "    }\n",
              "\n",
              "    .dataframe thead th {\n",
              "        text-align: right;\n",
              "    }\n",
              "</style>\n",
              "<table border=\"1\" class=\"dataframe\">\n",
              "  <thead>\n",
              "    <tr style=\"text-align: right;\">\n",
              "      <th></th>\n",
              "      <th>Class</th>\n",
              "      <th>Train Count</th>\n",
              "      <th>Predicted Count</th>\n",
              "      <th>Correct Predictions</th>\n",
              "      <th>Accuracy</th>\n",
              "    </tr>\n",
              "  </thead>\n",
              "  <tbody>\n",
              "    <tr>\n",
              "      <th>0</th>\n",
              "      <td>Alpha thal1 trait</td>\n",
              "      <td>85</td>\n",
              "      <td>18</td>\n",
              "      <td>17</td>\n",
              "      <td>0.9444</td>\n",
              "    </tr>\n",
              "    <tr>\n",
              "      <th>1</th>\n",
              "      <td>Hb E trait</td>\n",
              "      <td>55</td>\n",
              "      <td>14</td>\n",
              "      <td>11</td>\n",
              "      <td>0.7857</td>\n",
              "    </tr>\n",
              "    <tr>\n",
              "      <th>2</th>\n",
              "      <td>Hb E trait + Alpha thal1 trait</td>\n",
              "      <td>89</td>\n",
              "      <td>14</td>\n",
              "      <td>14</td>\n",
              "      <td>1.0000</td>\n",
              "    </tr>\n",
              "    <tr>\n",
              "      <th>3</th>\n",
              "      <td>Normal Hb type</td>\n",
              "      <td>61</td>\n",
              "      <td>13</td>\n",
              "      <td>13</td>\n",
              "      <td>1.0000</td>\n",
              "    </tr>\n",
              "    <tr>\n",
              "      <th>4</th>\n",
              "      <td>Alpha thal trait</td>\n",
              "      <td>44</td>\n",
              "      <td>8</td>\n",
              "      <td>8</td>\n",
              "      <td>1.0000</td>\n",
              "    </tr>\n",
              "    <tr>\n",
              "      <th>5</th>\n",
              "      <td>Beta thal trait</td>\n",
              "      <td>32</td>\n",
              "      <td>6</td>\n",
              "      <td>6</td>\n",
              "      <td>1.0000</td>\n",
              "    </tr>\n",
              "    <tr>\n",
              "      <th>6</th>\n",
              "      <td>Hb E Homozygote</td>\n",
              "      <td>25</td>\n",
              "      <td>6</td>\n",
              "      <td>5</td>\n",
              "      <td>0.8333</td>\n",
              "    </tr>\n",
              "    <tr>\n",
              "      <th>7</th>\n",
              "      <td>Hb H disease</td>\n",
              "      <td>18</td>\n",
              "      <td>4</td>\n",
              "      <td>4</td>\n",
              "      <td>1.0000</td>\n",
              "    </tr>\n",
              "    <tr>\n",
              "      <th>8</th>\n",
              "      <td>Beta0 thal/Hb E disease</td>\n",
              "      <td>16</td>\n",
              "      <td>3</td>\n",
              "      <td>3</td>\n",
              "      <td>1.0000</td>\n",
              "    </tr>\n",
              "    <tr>\n",
              "      <th>9</th>\n",
              "      <td>Hb CS trait</td>\n",
              "      <td>6</td>\n",
              "      <td>1</td>\n",
              "      <td>1</td>\n",
              "      <td>1.0000</td>\n",
              "    </tr>\n",
              "    <tr>\n",
              "      <th>10</th>\n",
              "      <td>FA2</td>\n",
              "      <td>4</td>\n",
              "      <td>0</td>\n",
              "      <td>0</td>\n",
              "      <td>NaN</td>\n",
              "    </tr>\n",
              "  </tbody>\n",
              "</table>\n",
              "</div>\n",
              "    <div class=\"colab-df-buttons\">\n",
              "\n",
              "  <div class=\"colab-df-container\">\n",
              "    <button class=\"colab-df-convert\" onclick=\"convertToInteractive('df-7f32de05-b05e-4183-a2ab-303f5c19e5d0')\"\n",
              "            title=\"Convert this dataframe to an interactive table.\"\n",
              "            style=\"display:none;\">\n",
              "\n",
              "  <svg xmlns=\"http://www.w3.org/2000/svg\" height=\"24px\" viewBox=\"0 -960 960 960\">\n",
              "    <path d=\"M120-120v-720h720v720H120Zm60-500h600v-160H180v160Zm220 220h160v-160H400v160Zm0 220h160v-160H400v160ZM180-400h160v-160H180v160Zm440 0h160v-160H620v160ZM180-180h160v-160H180v160Zm440 0h160v-160H620v160Z\"/>\n",
              "  </svg>\n",
              "    </button>\n",
              "\n",
              "  <style>\n",
              "    .colab-df-container {\n",
              "      display:flex;\n",
              "      gap: 12px;\n",
              "    }\n",
              "\n",
              "    .colab-df-convert {\n",
              "      background-color: #E8F0FE;\n",
              "      border: none;\n",
              "      border-radius: 50%;\n",
              "      cursor: pointer;\n",
              "      display: none;\n",
              "      fill: #1967D2;\n",
              "      height: 32px;\n",
              "      padding: 0 0 0 0;\n",
              "      width: 32px;\n",
              "    }\n",
              "\n",
              "    .colab-df-convert:hover {\n",
              "      background-color: #E2EBFA;\n",
              "      box-shadow: 0px 1px 2px rgba(60, 64, 67, 0.3), 0px 1px 3px 1px rgba(60, 64, 67, 0.15);\n",
              "      fill: #174EA6;\n",
              "    }\n",
              "\n",
              "    .colab-df-buttons div {\n",
              "      margin-bottom: 4px;\n",
              "    }\n",
              "\n",
              "    [theme=dark] .colab-df-convert {\n",
              "      background-color: #3B4455;\n",
              "      fill: #D2E3FC;\n",
              "    }\n",
              "\n",
              "    [theme=dark] .colab-df-convert:hover {\n",
              "      background-color: #434B5C;\n",
              "      box-shadow: 0px 1px 3px 1px rgba(0, 0, 0, 0.15);\n",
              "      filter: drop-shadow(0px 1px 2px rgba(0, 0, 0, 0.3));\n",
              "      fill: #FFFFFF;\n",
              "    }\n",
              "  </style>\n",
              "\n",
              "    <script>\n",
              "      const buttonEl =\n",
              "        document.querySelector('#df-7f32de05-b05e-4183-a2ab-303f5c19e5d0 button.colab-df-convert');\n",
              "      buttonEl.style.display =\n",
              "        google.colab.kernel.accessAllowed ? 'block' : 'none';\n",
              "\n",
              "      async function convertToInteractive(key) {\n",
              "        const element = document.querySelector('#df-7f32de05-b05e-4183-a2ab-303f5c19e5d0');\n",
              "        const dataTable =\n",
              "          await google.colab.kernel.invokeFunction('convertToInteractive',\n",
              "                                                    [key], {});\n",
              "        if (!dataTable) return;\n",
              "\n",
              "        const docLinkHtml = 'Like what you see? Visit the ' +\n",
              "          '<a target=\"_blank\" href=https://colab.research.google.com/notebooks/data_table.ipynb>data table notebook</a>'\n",
              "          + ' to learn more about interactive tables.';\n",
              "        element.innerHTML = '';\n",
              "        dataTable['output_type'] = 'display_data';\n",
              "        await google.colab.output.renderOutput(dataTable, element);\n",
              "        const docLink = document.createElement('div');\n",
              "        docLink.innerHTML = docLinkHtml;\n",
              "        element.appendChild(docLink);\n",
              "      }\n",
              "    </script>\n",
              "  </div>\n",
              "\n",
              "\n",
              "    <div id=\"df-5058f4cc-4947-4e5d-9a3c-73fcec70c864\">\n",
              "      <button class=\"colab-df-quickchart\" onclick=\"quickchart('df-5058f4cc-4947-4e5d-9a3c-73fcec70c864')\"\n",
              "                title=\"Suggest charts\"\n",
              "                style=\"display:none;\">\n",
              "\n",
              "<svg xmlns=\"http://www.w3.org/2000/svg\" height=\"24px\"viewBox=\"0 0 24 24\"\n",
              "     width=\"24px\">\n",
              "    <g>\n",
              "        <path d=\"M19 3H5c-1.1 0-2 .9-2 2v14c0 1.1.9 2 2 2h14c1.1 0 2-.9 2-2V5c0-1.1-.9-2-2-2zM9 17H7v-7h2v7zm4 0h-2V7h2v10zm4 0h-2v-4h2v4z\"/>\n",
              "    </g>\n",
              "</svg>\n",
              "      </button>\n",
              "\n",
              "<style>\n",
              "  .colab-df-quickchart {\n",
              "      --bg-color: #E8F0FE;\n",
              "      --fill-color: #1967D2;\n",
              "      --hover-bg-color: #E2EBFA;\n",
              "      --hover-fill-color: #174EA6;\n",
              "      --disabled-fill-color: #AAA;\n",
              "      --disabled-bg-color: #DDD;\n",
              "  }\n",
              "\n",
              "  [theme=dark] .colab-df-quickchart {\n",
              "      --bg-color: #3B4455;\n",
              "      --fill-color: #D2E3FC;\n",
              "      --hover-bg-color: #434B5C;\n",
              "      --hover-fill-color: #FFFFFF;\n",
              "      --disabled-bg-color: #3B4455;\n",
              "      --disabled-fill-color: #666;\n",
              "  }\n",
              "\n",
              "  .colab-df-quickchart {\n",
              "    background-color: var(--bg-color);\n",
              "    border: none;\n",
              "    border-radius: 50%;\n",
              "    cursor: pointer;\n",
              "    display: none;\n",
              "    fill: var(--fill-color);\n",
              "    height: 32px;\n",
              "    padding: 0;\n",
              "    width: 32px;\n",
              "  }\n",
              "\n",
              "  .colab-df-quickchart:hover {\n",
              "    background-color: var(--hover-bg-color);\n",
              "    box-shadow: 0 1px 2px rgba(60, 64, 67, 0.3), 0 1px 3px 1px rgba(60, 64, 67, 0.15);\n",
              "    fill: var(--button-hover-fill-color);\n",
              "  }\n",
              "\n",
              "  .colab-df-quickchart-complete:disabled,\n",
              "  .colab-df-quickchart-complete:disabled:hover {\n",
              "    background-color: var(--disabled-bg-color);\n",
              "    fill: var(--disabled-fill-color);\n",
              "    box-shadow: none;\n",
              "  }\n",
              "\n",
              "  .colab-df-spinner {\n",
              "    border: 2px solid var(--fill-color);\n",
              "    border-color: transparent;\n",
              "    border-bottom-color: var(--fill-color);\n",
              "    animation:\n",
              "      spin 1s steps(1) infinite;\n",
              "  }\n",
              "\n",
              "  @keyframes spin {\n",
              "    0% {\n",
              "      border-color: transparent;\n",
              "      border-bottom-color: var(--fill-color);\n",
              "      border-left-color: var(--fill-color);\n",
              "    }\n",
              "    20% {\n",
              "      border-color: transparent;\n",
              "      border-left-color: var(--fill-color);\n",
              "      border-top-color: var(--fill-color);\n",
              "    }\n",
              "    30% {\n",
              "      border-color: transparent;\n",
              "      border-left-color: var(--fill-color);\n",
              "      border-top-color: var(--fill-color);\n",
              "      border-right-color: var(--fill-color);\n",
              "    }\n",
              "    40% {\n",
              "      border-color: transparent;\n",
              "      border-right-color: var(--fill-color);\n",
              "      border-top-color: var(--fill-color);\n",
              "    }\n",
              "    60% {\n",
              "      border-color: transparent;\n",
              "      border-right-color: var(--fill-color);\n",
              "    }\n",
              "    80% {\n",
              "      border-color: transparent;\n",
              "      border-right-color: var(--fill-color);\n",
              "      border-bottom-color: var(--fill-color);\n",
              "    }\n",
              "    90% {\n",
              "      border-color: transparent;\n",
              "      border-bottom-color: var(--fill-color);\n",
              "    }\n",
              "  }\n",
              "</style>\n",
              "\n",
              "      <script>\n",
              "        async function quickchart(key) {\n",
              "          const quickchartButtonEl =\n",
              "            document.querySelector('#' + key + ' button');\n",
              "          quickchartButtonEl.disabled = true;  // To prevent multiple clicks.\n",
              "          quickchartButtonEl.classList.add('colab-df-spinner');\n",
              "          try {\n",
              "            const charts = await google.colab.kernel.invokeFunction(\n",
              "                'suggestCharts', [key], {});\n",
              "          } catch (error) {\n",
              "            console.error('Error during call to suggestCharts:', error);\n",
              "          }\n",
              "          quickchartButtonEl.classList.remove('colab-df-spinner');\n",
              "          quickchartButtonEl.classList.add('colab-df-quickchart-complete');\n",
              "        }\n",
              "        (() => {\n",
              "          let quickchartButtonEl =\n",
              "            document.querySelector('#df-5058f4cc-4947-4e5d-9a3c-73fcec70c864 button');\n",
              "          quickchartButtonEl.style.display =\n",
              "            google.colab.kernel.accessAllowed ? 'block' : 'none';\n",
              "        })();\n",
              "      </script>\n",
              "    </div>\n",
              "\n",
              "  <div id=\"id_55cf74f0-722f-45e8-9245-84f1b21f597f\">\n",
              "    <style>\n",
              "      .colab-df-generate {\n",
              "        background-color: #E8F0FE;\n",
              "        border: none;\n",
              "        border-radius: 50%;\n",
              "        cursor: pointer;\n",
              "        display: none;\n",
              "        fill: #1967D2;\n",
              "        height: 32px;\n",
              "        padding: 0 0 0 0;\n",
              "        width: 32px;\n",
              "      }\n",
              "\n",
              "      .colab-df-generate:hover {\n",
              "        background-color: #E2EBFA;\n",
              "        box-shadow: 0px 1px 2px rgba(60, 64, 67, 0.3), 0px 1px 3px 1px rgba(60, 64, 67, 0.15);\n",
              "        fill: #174EA6;\n",
              "      }\n",
              "\n",
              "      [theme=dark] .colab-df-generate {\n",
              "        background-color: #3B4455;\n",
              "        fill: #D2E3FC;\n",
              "      }\n",
              "\n",
              "      [theme=dark] .colab-df-generate:hover {\n",
              "        background-color: #434B5C;\n",
              "        box-shadow: 0px 1px 3px 1px rgba(0, 0, 0, 0.15);\n",
              "        filter: drop-shadow(0px 1px 2px rgba(0, 0, 0, 0.3));\n",
              "        fill: #FFFFFF;\n",
              "      }\n",
              "    </style>\n",
              "    <button class=\"colab-df-generate\" onclick=\"generateWithVariable('summary_df')\"\n",
              "            title=\"Generate code using this dataframe.\"\n",
              "            style=\"display:none;\">\n",
              "\n",
              "  <svg xmlns=\"http://www.w3.org/2000/svg\" height=\"24px\"viewBox=\"0 0 24 24\"\n",
              "       width=\"24px\">\n",
              "    <path d=\"M7,19H8.4L18.45,9,17,7.55,7,17.6ZM5,21V16.75L18.45,3.32a2,2,0,0,1,2.83,0l1.4,1.43a1.91,1.91,0,0,1,.58,1.4,1.91,1.91,0,0,1-.58,1.4L9.25,21ZM18.45,9,17,7.55Zm-12,3A5.31,5.31,0,0,0,4.9,8.1,5.31,5.31,0,0,0,1,6.5,5.31,5.31,0,0,0,4.9,4.9,5.31,5.31,0,0,0,6.5,1,5.31,5.31,0,0,0,8.1,4.9,5.31,5.31,0,0,0,12,6.5,5.46,5.46,0,0,0,6.5,12Z\"/>\n",
              "  </svg>\n",
              "    </button>\n",
              "    <script>\n",
              "      (() => {\n",
              "      const buttonEl =\n",
              "        document.querySelector('#id_55cf74f0-722f-45e8-9245-84f1b21f597f button.colab-df-generate');\n",
              "      buttonEl.style.display =\n",
              "        google.colab.kernel.accessAllowed ? 'block' : 'none';\n",
              "\n",
              "      buttonEl.onclick = () => {\n",
              "        google.colab.notebook.generateWithVariable('summary_df');\n",
              "      }\n",
              "      })();\n",
              "    </script>\n",
              "  </div>\n",
              "\n",
              "    </div>\n",
              "  </div>\n"
            ],
            "application/vnd.google.colaboratory.intrinsic+json": {
              "type": "dataframe",
              "variable_name": "summary_df",
              "summary": "{\n  \"name\": \"summary_df\",\n  \"rows\": 11,\n  \"fields\": [\n    {\n      \"column\": \"Class\",\n      \"properties\": {\n        \"dtype\": \"string\",\n        \"num_unique_values\": 11,\n        \"samples\": [\n          \"Beta thal trait\",\n          \"Alpha thal1 trait\",\n          \"Hb CS trait\"\n        ],\n        \"semantic_type\": \"\",\n        \"description\": \"\"\n      }\n    },\n    {\n      \"column\": \"Train Count\",\n      \"properties\": {\n        \"dtype\": \"number\",\n        \"std\": 29,\n        \"min\": 4,\n        \"max\": 89,\n        \"num_unique_values\": 11,\n        \"samples\": [\n          32,\n          85,\n          6\n        ],\n        \"semantic_type\": \"\",\n        \"description\": \"\"\n      }\n    },\n    {\n      \"column\": \"Predicted Count\",\n      \"properties\": {\n        \"dtype\": \"number\",\n        \"std\": 5,\n        \"min\": 0,\n        \"max\": 18,\n        \"num_unique_values\": 9,\n        \"samples\": [\n          1,\n          14,\n          4\n        ],\n        \"semantic_type\": \"\",\n        \"description\": \"\"\n      }\n    },\n    {\n      \"column\": \"Correct Predictions\",\n      \"properties\": {\n        \"dtype\": \"number\",\n        \"std\": 5,\n        \"min\": 0,\n        \"max\": 17,\n        \"num_unique_values\": 11,\n        \"samples\": [\n          6,\n          17,\n          1\n        ],\n        \"semantic_type\": \"\",\n        \"description\": \"\"\n      }\n    },\n    {\n      \"column\": \"Accuracy\",\n      \"properties\": {\n        \"dtype\": \"number\",\n        \"std\": 0.08009909418269903,\n        \"min\": 0.7857,\n        \"max\": 1.0,\n        \"num_unique_values\": 4,\n        \"samples\": [\n          0.7857,\n          0.8333,\n          0.9444\n        ],\n        \"semantic_type\": \"\",\n        \"description\": \"\"\n      }\n    }\n  ]\n}"
            }
          },
          "metadata": {}
        }
      ]
    },
    {
      "cell_type": "code",
      "source": [
        "import matplotlib.pyplot as plt\n",
        "from sklearn.metrics import classification_report, confusion_matrix, ConfusionMatrixDisplay\n",
        "\n",
        "val_preds = tabnet.predict(X_val)\n",
        "\n",
        "import pandas as pd\n",
        "from sklearn.metrics import confusion_matrix\n",
        "\n",
        "# Tahmin ve gerçek etiketler\n",
        "val_preds = tabnet.predict(X_val)\n",
        "val_true = y_val\n",
        "\n",
        "import pandas as pd\n",
        "from sklearn.metrics import confusion_matrix\n",
        "\n",
        "val_preds = tabnet.predict(X_val)\n",
        "val_true = y_val\n",
        "class_names = target_le.classes_\n",
        "\n",
        "cm = confusion_matrix(val_true, val_preds)\n",
        "\n",
        "pred_counts = cm.sum(axis=0)\n",
        "correct_counts = cm.diagonal()\n",
        "accuracy_per_class = correct_counts / pred_counts\n",
        "\n",
        "summary_df = pd.DataFrame({\n",
        "    \"Class\": class_names,\n",
        "    \"Predicted Count\": pred_counts,\n",
        "    \"Correct Predictions\": correct_counts,\n",
        "    \"Accuracy\": accuracy_per_class.round(4)\n",
        "})\n",
        "\n",
        "# Tabloyu yazdır\n",
        "print(summary_df.to_string(index=False))\n",
        "\n",
        "\n",
        "print(classification_report(y_val, val_preds, target_names=target_le.classes_))\n",
        "\n",
        "cm = confusion_matrix(y_val, val_preds)\n",
        "disp = ConfusionMatrixDisplay(confusion_matrix=cm, display_labels=target_le.classes_)\n",
        "disp.plot(cmap='Blues')\n",
        "plt.title(\"Validation Confusion Matrix\")\n",
        "plt.show()"
      ],
      "metadata": {
        "colab": {
          "base_uri": "https://localhost:8080/",
          "height": 1000
        },
        "id": "QJglGwpIyyhW",
        "outputId": "0ff59c71-f6bb-45aa-c3d6-e910e8978bdc"
      },
      "execution_count": 26,
      "outputs": [
        {
          "output_type": "stream",
          "name": "stderr",
          "text": [
            "<ipython-input-26-3cad891e3eeb>:24: RuntimeWarning: invalid value encountered in divide\n",
            "  accuracy_per_class = correct_counts / pred_counts\n",
            "/usr/local/lib/python3.11/dist-packages/sklearn/metrics/_classification.py:1565: UndefinedMetricWarning: Precision is ill-defined and being set to 0.0 in labels with no predicted samples. Use `zero_division` parameter to control this behavior.\n",
            "  _warn_prf(average, modifier, f\"{metric.capitalize()} is\", len(result))\n",
            "/usr/local/lib/python3.11/dist-packages/sklearn/metrics/_classification.py:1565: UndefinedMetricWarning: Precision is ill-defined and being set to 0.0 in labels with no predicted samples. Use `zero_division` parameter to control this behavior.\n",
            "  _warn_prf(average, modifier, f\"{metric.capitalize()} is\", len(result))\n",
            "/usr/local/lib/python3.11/dist-packages/sklearn/metrics/_classification.py:1565: UndefinedMetricWarning: Precision is ill-defined and being set to 0.0 in labels with no predicted samples. Use `zero_division` parameter to control this behavior.\n",
            "  _warn_prf(average, modifier, f\"{metric.capitalize()} is\", len(result))\n"
          ]
        },
        {
          "output_type": "stream",
          "name": "stdout",
          "text": [
            "                         Class  Predicted Count  Correct Predictions  Accuracy\n",
            "              Alpha thal trait                8                    8    1.0000\n",
            "             Alpha thal1 trait               18                   17    0.9444\n",
            "               Beta thal trait                6                    6    1.0000\n",
            "       Beta0 thal/Hb E disease                3                    3    1.0000\n",
            "                           FA2                0                    0       NaN\n",
            "                   Hb CS trait                1                    1    1.0000\n",
            "               Hb E Homozygote                6                    5    0.8333\n",
            "                    Hb E trait               14                   11    0.7857\n",
            "Hb E trait + Alpha thal1 trait               14                   14    1.0000\n",
            "                  Hb H disease                4                    4    1.0000\n",
            "                Normal Hb type               13                   13    1.0000\n",
            "                                precision    recall  f1-score   support\n",
            "\n",
            "              Alpha thal trait       1.00      0.89      0.94         9\n",
            "             Alpha thal1 trait       0.94      1.00      0.97        17\n",
            "               Beta thal trait       1.00      1.00      1.00         6\n",
            "       Beta0 thal/Hb E disease       1.00      1.00      1.00         3\n",
            "                           FA2       0.00      0.00      0.00         1\n",
            "                   Hb CS trait       1.00      1.00      1.00         1\n",
            "               Hb E Homozygote       0.83      1.00      0.91         5\n",
            "                    Hb E trait       0.79      1.00      0.88        11\n",
            "Hb E trait + Alpha thal1 trait       1.00      0.82      0.90        17\n",
            "                  Hb H disease       1.00      1.00      1.00         4\n",
            "                Normal Hb type       1.00      1.00      1.00        13\n",
            "\n",
            "                      accuracy                           0.94        87\n",
            "                     macro avg       0.87      0.88      0.87        87\n",
            "                  weighted avg       0.94      0.94      0.94        87\n",
            "\n"
          ]
        },
        {
          "output_type": "display_data",
          "data": {
            "text/plain": [
              "<Figure size 640x480 with 2 Axes>"
            ],
            "image/png": "[encoded data removed]"
          },
          "metadata": {}
        }
      ]
    },
    {
      "cell_type": "code",
      "source": [
        "X_test_scaled = scaler.transform(X_test)\n",
        "\n",
        "test_preds = tabnet.predict(X_test_scaled)\n",
        "test_preds_labels = target_le.inverse_transform(test_preds)\n",
        "test_results = pd.DataFrame({\"id\": test_ids, \"Prediction\": test_preds_labels})"
      ],
      "metadata": {
        "id": "6RPP4BG-4by3"
      },
      "execution_count": 36,
      "outputs": []
    },
    {
      "cell_type": "code",
      "source": [
        "from sklearn.metrics import classification_report, confusion_matrix, ConfusionMatrixDisplay\n",
        "import matplotlib.pyplot as plt\n",
        "import pandas as pd\n",
        "\n",
        "# Test setinde etiket varsa performans analizi yap\n",
        "if \"Interpretation\" in test_df.columns:\n",
        "    y_test_true = target_le.transform(test_df[\"Interpretation\"])\n",
        "    X_test_eval = test_df.drop(columns=[\"Interpretation\", \"id\"], errors=\"ignore\")\n",
        "    X_test_scaled = scaler.transform(X_test_eval)\n",
        "    y_test_pred = tabnet.predict(X_test_scaled)\n",
        "\n",
        "    # Rapor ve Matris\n",
        "    print(classification_report(y_test_true, y_test_pred, target_names=target_le.classes_))\n",
        "\n",
        "    cm = confusion_matrix(y_test_true, y_test_pred)\n",
        "    disp = ConfusionMatrixDisplay(confusion_matrix=cm, display_labels=target_le.classes_)\n",
        "    disp.plot(cmap='Blues')\n",
        "    plt.title(\"Test Set Confusion Matrix\")\n",
        "    plt.grid(False)\n",
        "    plt.show()\n",
        "else:\n",
        "    print(\"⚠️ Test setinde 'Interpretation' yok, karşılaştırma yapılamaz.\")"
      ],
      "metadata": {
        "colab": {
          "base_uri": "https://localhost:8080/",
          "height": 784
        },
        "id": "6bSwEGMH4b1Y",
        "outputId": "2caa6437-e80c-4b86-e50e-0c88ab72d590"
      },
      "execution_count": 37,
      "outputs": [
        {
          "output_type": "stream",
          "name": "stdout",
          "text": [
            "                                precision    recall  f1-score   support\n",
            "\n",
            "              Alpha thal trait       0.61      0.31      0.41       150\n",
            "             Alpha thal1 trait       0.57      0.88      0.69       180\n",
            "               Beta thal trait       0.24      0.16      0.19        74\n",
            "       Beta0 thal/Hb E disease       0.25      0.04      0.07        50\n",
            "                           FA2       1.00      0.62      0.77        50\n",
            "                   Hb CS trait       0.93      0.86      0.90        50\n",
            "               Hb E Homozygote       0.84      0.90      0.87       105\n",
            "                    Hb E trait       0.92      0.84      0.87       548\n",
            "Hb E trait + Alpha thal1 trait       0.28      0.59      0.38       116\n",
            "                  Hb H disease       0.93      0.56      0.70        50\n",
            "                Normal Hb type       0.78      0.76      0.77        78\n",
            "\n",
            "                      accuracy                           0.69      1451\n",
            "                     macro avg       0.67      0.59      0.60      1451\n",
            "                  weighted avg       0.72      0.69      0.69      1451\n",
            "\n"
          ]
        },
        {
          "output_type": "display_data",
          "data": {
            "text/plain": [
              "<Figure size 640x480 with 2 Axes>"
            ],
            "image/png": "[encoded data removed]"
          },
          "metadata": {}
        }
      ]
    },
    {
      "cell_type": "code",
      "source": [
        "# Standardize işlemi\n",
        "scaler = StandardScaler()\n",
        "X_scaled = scaler.fit_transform(X)\n",
        "\n",
        "X_test = test_df.copy()\n",
        "if \"Interpretation\" in X_test.columns:\n",
        "    X_test = X_test.drop(columns=[\"Interpretation\"])\n",
        "\n",
        "# Eksik olan satır:\n",
        "X_test_scaled = scaler.transform(X_test)  # <<< bunu EKLE\n",
        "test_preds = tabnet.predict(X_test_scaled)\n",
        "test_preds_labels = target_le.inverse_transform(test_preds)\n",
        "print(pd.Series(test_preds_labels).value_counts())"
      ],
      "metadata": {
        "id": "MYnv4Da2yyjt",
        "colab": {
          "base_uri": "https://localhost:8080/"
        },
        "outputId": "e28479b1-07ab-4241-8950-c87f2c22c4aa"
      },
      "execution_count": 35,
      "outputs": [
        {
          "output_type": "stream",
          "name": "stdout",
          "text": [
            "Hb E trait                        499\n",
            "Alpha thal1 trait                 278\n",
            "Hb E trait + Alpha thal1 trait    245\n",
            "Hb E Homozygote                   112\n",
            "Alpha thal trait                   76\n",
            "Normal Hb type                     76\n",
            "Beta thal trait                    50\n",
            "Hb CS trait                        46\n",
            "FA2                                31\n",
            "Hb H disease                       30\n",
            "Beta0 thal/Hb E disease             8\n",
            "Name: count, dtype: int64\n"
          ]
        }
      ]
    }
  ]
}